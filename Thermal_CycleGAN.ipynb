{
 "cells": [
  {
   "cell_type": "markdown",
   "id": "af9b1eff-7417-4090-976c-1eeb5c9c7ba2",
   "metadata": {},
   "source": [
    "[![Open In Colab](https://colab.research.google.com/assets/colab-badge.svg)](https://colab.research.google.com/github/scksh/Thermal-CycleGAN/blob/main/Thermal_CycleGAN.ipynb)"
   ]
  },
  {
   "cell_type": "markdown",
   "id": "6a45f61b-9ced-4b03-b1f9-8feadd84fec6",
   "metadata": {},
   "source": [
    "# Install"
   ]
  },
  {
   "cell_type": "code",
   "execution_count": null,
   "id": "8ccb5338-4f47-4b18-a7e3-8cf572544f39",
   "metadata": {},
   "outputs": [],
   "source": [
    "!git clone https://github.com/scksh/Thermal-CycleGAN"
   ]
  },
  {
   "cell_type": "code",
   "execution_count": null,
   "id": "d81fd7da-b45f-4e90-aed8-5ae44c0be7d1",
   "metadata": {},
   "outputs": [],
   "source": [
    "import os\n",
    "os.chdir('Thermal-CycleGAN')"
   ]
  },
  {
   "cell_type": "code",
   "execution_count": null,
   "id": "27e41068-2cd9-46a5-9ec7-2bfeb45deb6d",
   "metadata": {},
   "outputs": [],
   "source": [
    "!pip install -r requirements.txt"
   ]
  },
  {
   "cell_type": "markdown",
   "id": "e4d629fc-85fb-4be2-8508-5e80d938cb4c",
   "metadata": {},
   "source": [
    "# Dataset"
   ]
  },
  {
   "cell_type": "code",
   "execution_count": null,
   "id": "26fd01f0-5b23-4bd9-bc02-d6631bbcb50f",
   "metadata": {},
   "outputs": [],
   "source": [
    "from huggingface_hub import hf_hub_download\n",
    "import zipfile\n",
    "\n",
    "# Download dataset\n",
    "zip_path = hf_hub_download(\n",
    "    repo_id=\"SUMMERZETT/RGBSeg2IR\",\n",
    "    filename=\"RGBSeg2IR.zip\",\n",
    "    repo_type=\"dataset\"\n",
    ")\n",
    "\n",
    "with zipfile.ZipFile(zip_path, 'r') as zip_ref:\n",
    "    zip_ref.extractall(\"./datasets\")"
   ]
  },
  {
   "cell_type": "markdown",
   "id": "a19f284d-c5b6-4931-b33a-65e2f3140acd",
   "metadata": {},
   "source": [
    "# Pre-trained model"
   ]
  },
  {
   "cell_type": "code",
   "execution_count": null,
   "id": "724288a0-2448-407a-8ca3-98dac9635021",
   "metadata": {},
   "outputs": [],
   "source": [
    "from huggingface_hub import hf_hub_download\n",
    "\n",
    "# Download pretrained model\n",
    "model_path = hf_hub_download(\n",
    "    repo_id=\"SUMMERZETT/Thermal-CycleGAN\",\n",
    "    filename=\"thermal_cyclegan.pth\",\n",
    "    repo_type=\"model\",\n",
    "    local_dir=\"./pretrained\",\n",
    "    local_dir_use_symlinks=False\n",
    ")"
   ]
  },
  {
  "cell_type": "markdown",
  "id": "9843afcf-a22e-4043-b004-3263301d64ca",
  "metadata": {},
  "source": [
    "# Training\n",
    "## CPU/GPU (default --gpu_ids 0)\n",
    "- Please set --gpu_ids -1 to use CPU mode; set --gpu_ids 0,1,2 for multi-GPU mode. You need a large batch size (e.g., --batch_size 32) to benefit from multiple GPUs.\n",
    "\n",
    "## Visualization\n",
    "- During training, the current results can be viewed using two methods. First, if you set --display_id > 0, the results and loss plot will appear on a local graphics web server launched by visdom. To do this, you should have visdom installed and a server running by the command python -m visdom.server. The default server URL is http://localhost:8097. display_id corresponds to the window ID that is displayed on the visdom server. The visdom display functionality is turned on by default. To avoid the extra overhead of communicating with visdom set --display_id -1. Second, the intermediate results are saved to [opt.checkpoints_dir]/[opt.name]/web/ as an HTML file. To avoid this, set --no_html."
  ]
  },
  {
   "cell_type": "code",
   "execution_count": null,
   "id": "93bab872-1b20-4d7e-84df-f8227fb6c3a4",
   "metadata": {},
   "outputs": [],
   "source": [
    "!python train.py --dataroot ./datasets/RGBSeg2IR --name RGBSeg2IR --model cycle_gan --direction AtoB --dataset_mode aligned --input_nc 4 --output_nc 1 --gpu_ids 0 --n_epochs 0 --n_epochs_decay 10 --lambda_identity 0 --lr_policy linear --display_id -1"
   ]
  },
  {
   "cell_type": "markdown",
   "id": "d734ce5d-855b-433d-a81e-c94704db97ee",
   "metadata": {},
   "source": [
    "# Generate"
   ]
  },
  {
   "cell_type": "code",
   "execution_count": null,
   "id": "7c353eca-624e-49d9-adec-db86b3daef33",
   "metadata": {},
   "outputs": [],
   "source": [
    "!python generate.py --rgb_dir ./datasets/RGBSeg2IR/testA --seg_dir ./datasets/RGBSeg2IR/testSegA --model_path ./pretrained/thermal_cyclegan.pth --output_dir ./results/generated_IR --gpu_ids 0 --display_id -1"
   ]
  },
  {
   "cell_type": "code",
   "execution_count": null,
   "id": "6c8afe14-efce-4841-8957-34cac4ac757b",
   "metadata": {},
   "outputs": [],
   "source": []
  },
  {
   "cell_type": "code",
   "execution_count": null,
   "id": "a1056166-95e1-4ce1-9229-55e1e7621919",
   "metadata": {},
   "outputs": [],
   "source": []
  },
  {
   "cell_type": "code",
   "execution_count": null,
   "id": "ba11aa1a-6e55-4e89-996d-428819098cf1",
   "metadata": {},
   "outputs": [],
   "source": []
  },
  {
   "cell_type": "code",
   "execution_count": null,
   "id": "cdbfac1c-d93a-4e93-bad2-9b134c355c34",
   "metadata": {},
   "outputs": [],
   "source": []
  },
  {
   "cell_type": "code",
   "execution_count": null,
   "id": "32d9e736-9b09-4d17-a7ed-f62f5c864a61",
   "metadata": {},
   "outputs": [],
   "source": []
  },
  {
   "cell_type": "code",
   "execution_count": null,
   "id": "21551359-fcaa-4afc-9ddc-3c022dbba49c",
   "metadata": {},
   "outputs": [],
   "source": []
  },
  {
   "cell_type": "code",
   "execution_count": null,
   "id": "04b680a1-605f-4a70-a898-127dfd914686",
   "metadata": {},
   "outputs": [],
   "source": []
  },
  {
   "cell_type": "code",
   "execution_count": null,
   "id": "3711a8aa-2a8a-4a3c-b1b0-02b3770f1547",
   "metadata": {},
   "outputs": [],
   "source": []
  },
  {
   "cell_type": "code",
   "execution_count": null,
   "id": "3d52fa95-ba6c-4bbb-b297-7d5c644f8a0a",
   "metadata": {},
   "outputs": [],
   "source": []
  },
  {
   "cell_type": "code",
   "execution_count": null,
   "id": "a4a202c8-6d33-47a9-9acc-e726b585a7a4",
   "metadata": {},
   "outputs": [],
   "source": []
  },
  {
   "cell_type": "code",
   "execution_count": null,
   "id": "aeed34cb-b3c0-4ac5-82ec-73b6134d5155",
   "metadata": {},
   "outputs": [],
   "source": []
  },
  {
   "cell_type": "code",
   "execution_count": null,
   "id": "c8065a29-6656-4cce-b72b-396035db3a4a",
   "metadata": {},
   "outputs": [],
   "source": []
  },
  {
   "cell_type": "code",
   "execution_count": null,
   "id": "8ece8af8-2757-4a36-87c5-ff74bf313732",
   "metadata": {},
   "outputs": [],
   "source": []
  },
  {
   "cell_type": "code",
   "execution_count": null,
   "id": "fe5ba8de-47a1-40cb-952f-d9bd72028dc7",
   "metadata": {},
   "outputs": [],
   "source": []
  },
  {
   "cell_type": "code",
   "execution_count": null,
   "id": "37859ecd-7854-4d38-a7f6-a73ebf8f2813",
   "metadata": {},
   "outputs": [],
   "source": []
  }
 ],
 "metadata": {
  "kernelspec": {
   "display_name": "Python 3 (ipykernel)",
   "language": "python",
   "name": "python3"
  },
  "language_info": {
   "codemirror_mode": {
    "name": "ipython",
    "version": 3
   },
   "file_extension": ".py",
   "mimetype": "text/x-python",
   "name": "python",
   "nbconvert_exporter": "python",
   "pygments_lexer": "ipython3",
   "version": "3.12.7"
  }
 },
 "nbformat": 4,
 "nbformat_minor": 5
}
