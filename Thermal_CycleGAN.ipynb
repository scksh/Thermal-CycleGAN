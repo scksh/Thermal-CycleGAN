{
 "cells": [
  {
   "cell_type": "markdown",
   "id": "773cd746-1507-45a5-904e-d7772e816b56",
   "metadata": {},
   "source": [
    "# Install"
   ]
  },
  {
   "cell_type": "code",
   "execution_count": null,
   "id": "c9658ade-ef52-4426-bc70-40ed4d5ae265",
   "metadata": {},
   "outputs": [],
   "source": [
    "!git clone https://github.com/"
   ]
  },
  {
   "cell_type": "code",
   "execution_count": null,
   "id": "1f117ef2-2577-4826-9e96-54ce1aebf1a3",
   "metadata": {},
   "outputs": [],
   "source": [
    "import os\n",
    "os.chdir('Thermal_CycleGAN')"
   ]
  },
  {
   "cell_type": "code",
   "execution_count": null,
   "id": "a839125c-f734-40b1-996d-a4769e542fcc",
   "metadata": {},
   "outputs": [],
   "source": [
    "!pip install -r requirements.txt"
   ]
  },
  {
   "cell_type": "markdown",
   "id": "9af0994e-3596-494e-9dee-7d4d2ad43ea0",
   "metadata": {},
   "source": [
    "# Training"
   ]
  },
  {
   "cell_type": "code",
   "execution_count": null,
   "id": "3bd43eeb-43a7-4014-a11b-6e7440520750",
   "metadata": {},
   "outputs": [],
   "source": [
    "!python train.py --dataroot ./datasets/RGBSeg2IR --name RGBSeg2IR --model cycle_gan --display_id -1 --gpu_ids 0"
   ]
  },
  {
   "cell_type": "code",
   "execution_count": null,
   "id": "f86bf9ed-fdc5-40d5-b19e-3605505b7737",
   "metadata": {},
   "outputs": [],
   "source": []
  },
  {
   "cell_type": "code",
   "execution_count": null,
   "id": "b30d793e-c4e1-460d-8490-332c182fab9c",
   "metadata": {},
   "outputs": [],
   "source": []
  },
  {
   "cell_type": "code",
   "execution_count": null,
   "id": "6cf2d3ec-c5b3-433b-a7df-4d359bb4de32",
   "metadata": {},
   "outputs": [],
   "source": []
  },
  {
   "cell_type": "code",
   "execution_count": null,
   "id": "527b511a-94a7-4b37-84e8-bf52fca4acdf",
   "metadata": {},
   "outputs": [],
   "source": []
  },
  {
   "cell_type": "code",
   "execution_count": null,
   "id": "73c6dcd5-dd27-401f-bd6c-5241bc7ac2ae",
   "metadata": {},
   "outputs": [],
   "source": []
  },
  {
   "cell_type": "code",
   "execution_count": null,
   "id": "75816108-e109-4844-ae2d-97d20571956c",
   "metadata": {},
   "outputs": [],
   "source": []
  },
  {
   "cell_type": "code",
   "execution_count": null,
   "id": "a1e66c3a-62be-45d0-87fe-e1947805e24f",
   "metadata": {},
   "outputs": [],
   "source": []
  },
  {
   "cell_type": "code",
   "execution_count": null,
   "id": "2c3b2109-4f24-4370-8eb1-2cac6a3f8e8c",
   "metadata": {},
   "outputs": [],
   "source": []
  },
  {
   "cell_type": "code",
   "execution_count": null,
   "id": "e98cbbd7-c35f-4eeb-8872-929608b23bbb",
   "metadata": {},
   "outputs": [],
   "source": []
  },
  {
   "cell_type": "code",
   "execution_count": null,
   "id": "6704c25d-e85e-4859-a430-5127c3fd7ae8",
   "metadata": {},
   "outputs": [],
   "source": []
  },
  {
   "cell_type": "code",
   "execution_count": null,
   "id": "3cb10be2-5aff-4040-80bb-cb3d2f611d60",
   "metadata": {},
   "outputs": [],
   "source": []
  },
  {
   "cell_type": "code",
   "execution_count": null,
   "id": "cb2ec80d-8dd8-4b55-8390-9e69db679e72",
   "metadata": {},
   "outputs": [],
   "source": []
  },
  {
   "cell_type": "code",
   "execution_count": null,
   "id": "706fe73e-b063-4bc1-a07a-23f93becdd5e",
   "metadata": {},
   "outputs": [],
   "source": []
  },
  {
   "cell_type": "code",
   "execution_count": null,
   "id": "190ada2f-055a-4ef0-8f48-66514c96a99e",
   "metadata": {},
   "outputs": [],
   "source": []
  },
  {
   "cell_type": "code",
   "execution_count": null,
   "id": "9e792790-bdaf-4603-afa6-a04abbcc704e",
   "metadata": {},
   "outputs": [],
   "source": []
  },
  {
   "cell_type": "code",
   "execution_count": null,
   "id": "6a0572c2-6014-490b-bc73-657ee5810494",
   "metadata": {},
   "outputs": [],
   "source": []
  },
  {
   "cell_type": "code",
   "execution_count": null,
   "id": "ea21740a-6bde-494d-afc9-6473595b6445",
   "metadata": {},
   "outputs": [],
   "source": []
  },
  {
   "cell_type": "code",
   "execution_count": null,
   "id": "81b100c9-fa26-4c8b-a796-7f215a3feb70",
   "metadata": {},
   "outputs": [],
   "source": []
  },
  {
   "cell_type": "code",
   "execution_count": null,
   "id": "c80e25b7-24f7-4164-9412-751e24cc801b",
   "metadata": {},
   "outputs": [],
   "source": []
  },
  {
   "cell_type": "code",
   "execution_count": null,
   "id": "b3475464-41f7-43d8-9e70-3f88c2b1251d",
   "metadata": {},
   "outputs": [],
   "source": []
  },
  {
   "cell_type": "code",
   "execution_count": null,
   "id": "a8b7b992-ebae-425c-82a1-91b850c038fd",
   "metadata": {},
   "outputs": [],
   "source": []
  },
  {
   "cell_type": "code",
   "execution_count": null,
   "id": "85437cd3-3d40-470a-ae13-328809c064a6",
   "metadata": {},
   "outputs": [],
   "source": []
  },
  {
   "cell_type": "code",
   "execution_count": null,
   "id": "f2d3b6b0-9158-4ea7-af3b-cc758562ff27",
   "metadata": {},
   "outputs": [],
   "source": []
  },
  {
   "cell_type": "code",
   "execution_count": null,
   "id": "2e41ff6c-6ca1-4f89-a227-88a0527801ca",
   "metadata": {},
   "outputs": [],
   "source": []
  }
 ],
 "metadata": {
  "kernelspec": {
   "display_name": "Python 3 (ipykernel)",
   "language": "python",
   "name": "python3"
  },
  "language_info": {
   "codemirror_mode": {
    "name": "ipython",
    "version": 3
   },
   "file_extension": ".py",
   "mimetype": "text/x-python",
   "name": "python",
   "nbconvert_exporter": "python",
   "pygments_lexer": "ipython3",
   "version": "3.12.7"
  }
 },
 "nbformat": 4,
 "nbformat_minor": 5
}
