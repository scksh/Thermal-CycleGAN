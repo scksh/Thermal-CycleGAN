{
 "cells": [
  {
   "cell_type": "code",
   "execution_count": 1,
   "id": "518f3165-cede-4477-9957-9ccd6226ee5b",
   "metadata": {},
   "outputs": [
    {
     "name": "stdout",
     "output_type": "stream",
     "text": [
      "initialize network with normal\n"
     ]
    },
    {
     "ename": "FileNotFoundError",
     "evalue": "[Errno 2] No such file or directory: './home/ricky/문서/pytorch-CycleGAN-and-pix2pix-master/checkpoints/case1/latest_net_G_A.pth'",
     "output_type": "error",
     "traceback": [
      "\u001b[0;31m---------------------------------------------------------------------------\u001b[0m",
      "\u001b[0;31mFileNotFoundError\u001b[0m                         Traceback (most recent call last)",
      "Cell \u001b[0;32mIn[1], line 17\u001b[0m\n\u001b[1;32m     11\u001b[0m \u001b[38;5;66;03m# netG = networks.define_G(input_nc=4, output_nc=1, ngf=64, netG='resnet_9blocks',\u001b[39;00m\n\u001b[1;32m     12\u001b[0m \u001b[38;5;66;03m#                          norm='instance', use_dropout=False, init_type='normal',\u001b[39;00m\n\u001b[1;32m     13\u001b[0m \u001b[38;5;66;03m#                          init_gain=0.02, gpu_ids=[0])\u001b[39;00m\n\u001b[1;32m     14\u001b[0m \n\u001b[1;32m     15\u001b[0m \u001b[38;5;66;03m# 저장된 모델 로드 \u001b[39;00m\n\u001b[1;32m     16\u001b[0m model_path \u001b[38;5;241m=\u001b[39m \u001b[38;5;124m'\u001b[39m\u001b[38;5;124m./home/ricky/문서/pytorch-CycleGAN-and-pix2pix-master/checkpoints/case1/latest_net_G_A.pth\u001b[39m\u001b[38;5;124m'\u001b[39m\n\u001b[0;32m---> 17\u001b[0m netG\u001b[38;5;241m.\u001b[39mload_state_dict(torch\u001b[38;5;241m.\u001b[39mload(model_path, map_location\u001b[38;5;241m=\u001b[39m\u001b[38;5;124m'\u001b[39m\u001b[38;5;124mcuda:0\u001b[39m\u001b[38;5;124m'\u001b[39m))\n\u001b[1;32m     18\u001b[0m \u001b[38;5;66;03m# netG.load_state_dict(torch.load(model_path, map_location='cuda:0'))\u001b[39;00m\n\u001b[1;32m     19\u001b[0m netG\u001b[38;5;241m.\u001b[39meval()\n",
      "File \u001b[0;32m~/anaconda3/lib/python3.12/site-packages/torch/serialization.py:1479\u001b[0m, in \u001b[0;36mload\u001b[0;34m(f, map_location, pickle_module, weights_only, mmap, **pickle_load_args)\u001b[0m\n\u001b[1;32m   1476\u001b[0m \u001b[38;5;28;01mif\u001b[39;00m \u001b[38;5;124m\"\u001b[39m\u001b[38;5;124mencoding\u001b[39m\u001b[38;5;124m\"\u001b[39m \u001b[38;5;129;01mnot\u001b[39;00m \u001b[38;5;129;01min\u001b[39;00m pickle_load_args\u001b[38;5;241m.\u001b[39mkeys():\n\u001b[1;32m   1477\u001b[0m     pickle_load_args[\u001b[38;5;124m\"\u001b[39m\u001b[38;5;124mencoding\u001b[39m\u001b[38;5;124m\"\u001b[39m] \u001b[38;5;241m=\u001b[39m \u001b[38;5;124m\"\u001b[39m\u001b[38;5;124mutf-8\u001b[39m\u001b[38;5;124m\"\u001b[39m\n\u001b[0;32m-> 1479\u001b[0m \u001b[38;5;28;01mwith\u001b[39;00m _open_file_like(f, \u001b[38;5;124m\"\u001b[39m\u001b[38;5;124mrb\u001b[39m\u001b[38;5;124m\"\u001b[39m) \u001b[38;5;28;01mas\u001b[39;00m opened_file:\n\u001b[1;32m   1480\u001b[0m     \u001b[38;5;28;01mif\u001b[39;00m _is_zipfile(opened_file):\n\u001b[1;32m   1481\u001b[0m         \u001b[38;5;66;03m# The zipfile reader is going to advance the current file position.\u001b[39;00m\n\u001b[1;32m   1482\u001b[0m         \u001b[38;5;66;03m# If we want to actually tail call to torch.jit.load, we need to\u001b[39;00m\n\u001b[1;32m   1483\u001b[0m         \u001b[38;5;66;03m# reset back to the original position.\u001b[39;00m\n\u001b[1;32m   1484\u001b[0m         orig_position \u001b[38;5;241m=\u001b[39m opened_file\u001b[38;5;241m.\u001b[39mtell()\n",
      "File \u001b[0;32m~/anaconda3/lib/python3.12/site-packages/torch/serialization.py:759\u001b[0m, in \u001b[0;36m_open_file_like\u001b[0;34m(name_or_buffer, mode)\u001b[0m\n\u001b[1;32m    757\u001b[0m \u001b[38;5;28;01mdef\u001b[39;00m \u001b[38;5;21m_open_file_like\u001b[39m(name_or_buffer: FileLike, mode: \u001b[38;5;28mstr\u001b[39m) \u001b[38;5;241m-\u001b[39m\u001b[38;5;241m>\u001b[39m _opener[IO[\u001b[38;5;28mbytes\u001b[39m]]:\n\u001b[1;32m    758\u001b[0m     \u001b[38;5;28;01mif\u001b[39;00m _is_path(name_or_buffer):\n\u001b[0;32m--> 759\u001b[0m         \u001b[38;5;28;01mreturn\u001b[39;00m _open_file(name_or_buffer, mode)\n\u001b[1;32m    760\u001b[0m     \u001b[38;5;28;01melse\u001b[39;00m:\n\u001b[1;32m    761\u001b[0m         \u001b[38;5;28;01mif\u001b[39;00m \u001b[38;5;124m\"\u001b[39m\u001b[38;5;124mw\u001b[39m\u001b[38;5;124m\"\u001b[39m \u001b[38;5;129;01min\u001b[39;00m mode:\n",
      "File \u001b[0;32m~/anaconda3/lib/python3.12/site-packages/torch/serialization.py:740\u001b[0m, in \u001b[0;36m_open_file.__init__\u001b[0;34m(self, name, mode)\u001b[0m\n\u001b[1;32m    739\u001b[0m \u001b[38;5;28;01mdef\u001b[39;00m \u001b[38;5;21m__init__\u001b[39m(\u001b[38;5;28mself\u001b[39m, name: Union[\u001b[38;5;28mstr\u001b[39m, os\u001b[38;5;241m.\u001b[39mPathLike[\u001b[38;5;28mstr\u001b[39m]], mode: \u001b[38;5;28mstr\u001b[39m) \u001b[38;5;241m-\u001b[39m\u001b[38;5;241m>\u001b[39m \u001b[38;5;28;01mNone\u001b[39;00m:\n\u001b[0;32m--> 740\u001b[0m     \u001b[38;5;28msuper\u001b[39m()\u001b[38;5;241m.\u001b[39m\u001b[38;5;21m__init__\u001b[39m(\u001b[38;5;28mopen\u001b[39m(name, mode))\n",
      "\u001b[0;31mFileNotFoundError\u001b[0m: [Errno 2] No such file or directory: './home/ricky/문서/pytorch-CycleGAN-and-pix2pix-master/checkpoints/case1/latest_net_G_A.pth'"
     ]
    }
   ],
   "source": [
    "import torch\n",
    "from PIL import Image\n",
    "import torchvision.transforms as transforms\n",
    "from models import networks\n",
    "import os\n",
    "\n",
    "# 모델 정의 (입력 4채널, 출력 3채널 or 1채널 등 상황에 따라 조정)\n",
    "netG = networks.define_G(input_nc=4, output_nc=1, ngf=64, netG='resnet_9blocks',\n",
    "                         norm='instance', use_dropout=False, init_type='normal',\n",
    "                         init_gain=0.02, gpu_ids=[])\n",
    "# netG = networks.define_G(input_nc=4, output_nc=1, ngf=64, netG='resnet_9blocks',\n",
    "#                          norm='instance', use_dropout=False, init_type='normal',\n",
    "#                          init_gain=0.02, gpu_ids=[0])\n",
    "\n",
    "# 저장된 모델 로드 \n",
    "model_path = './home/ricky/문서/pytorch-CycleGAN-and-pix2pix-master/checkpoints/case1/'\n",
    "netG.load_state_dict(torch.load(model_path, map_location='cuda:0'))\n",
    "# netG.load_state_dict(torch.load(model_path, map_location='cuda:0'))\n",
    "netG.eval()\n",
    "\n",
    "# 전처리 정의 (RGB와 Seg에 동일한 변환)\n",
    "transform_rgb = transforms.Compose([\n",
    "    transforms.Resize((256, 256)),\n",
    "    transforms.ToTensor(),\n",
    "    transforms.Normalize((0.5, 0.5, 0.5), (0.5, 0.5, 0.5))\n",
    "])\n",
    "\n",
    "transform_seg = transformed.Compose([\n",
    "    transforms.Resize((256, 256)),\n",
    "    transforms.ToTensor(),\n",
    "    transforms.Normalize((0.5,), (0.5,))  # Grayscale 1채널용 정규화\n",
    "])\n",
    "\n",
    "# 테스트 이미지 파일 이름\n",
    "filename = '/home/ricky/바탕화면/345.jpg'\n",
    "\n",
    "# 경로 설정\n",
    "rgb_path = os.path.join('Test_Images', 'RGB', filename)\n",
    "seg_path = os.path.join('Test_Images', 'SEG', filename)\n",
    "output_path = os.path.join('Test_Images', 'Generated', filename)\n",
    "\n",
    "# 디렉토리 없으면 생성\n",
    "os.makedirs(os.path.dirname(output_path), exist_ok=True)\n",
    "\n",
    "# 이미지 로드 및 전처리\n",
    "rgb_img = Image.open(rgb_path).convert('RGB')\n",
    "seg_img = Image.open(seg_path).convert('L')  # Grayscale mask\n",
    "\n",
    "rgb_tensor = transform_rgb(rgb_img)           # [3, 256, 256]\n",
    "seg_tensor = transform_seg(seg_img)           # [1, 256, 256]\n",
    "\n",
    "# RGB + Seg concat → [4, 256, 256]\n",
    "input_tensor = torch.cat([rgb_tensor, seg_tensor], dim=0).unsqueeze(0)  # [1, 4, 256, 256]\n",
    "\n",
    "# 추론\n",
    "with torch.no_grad():\n",
    "    output_tensor = netG(input_tensor)\n",
    "\n",
    "# 후처리 및 저장\n",
    "output_image = output_tensor.squeeze().detach().cpu()\n",
    "output_image = (output_image + 1) / 2.0  # [-1,1] → [0,1]\n",
    "output_image = transforms.ToPILImage()(output_image)\n",
    "output_image.save(output_path)\n",
    "\n",
    "print(f\"변환된 thermal-like 이미지 저장 완료: {output_path}\")"
   ]
  },
  {
   "cell_type": "code",
   "execution_count": null,
   "id": "7ade23cd-b975-45d7-a5a4-86850a2c5a4d",
   "metadata": {},
   "outputs": [],
   "source": []
  }
 ],
 "metadata": {
  "kernelspec": {
   "display_name": "Python 3 (ipykernel)",
   "language": "python",
   "name": "python3"
  },
  "language_info": {
   "codemirror_mode": {
    "name": "ipython",
    "version": 3
   },
   "file_extension": ".py",
   "mimetype": "text/x-python",
   "name": "python",
   "nbconvert_exporter": "python",
   "pygments_lexer": "ipython3",
   "version": "3.12.7"
  }
 },
 "nbformat": 4,
 "nbformat_minor": 5
}
