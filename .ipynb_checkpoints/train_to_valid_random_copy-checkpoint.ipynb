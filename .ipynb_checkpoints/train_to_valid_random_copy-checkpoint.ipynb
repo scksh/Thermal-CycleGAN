{
 "cells": [
  {
   "cell_type": "code",
   "execution_count": null,
   "id": "905a88a6-89d4-42f5-b033-a18a45266744",
   "metadata": {},
   "outputs": [],
   "source": [
    "import os\n",
    "import shutil\n",
    "import random\n",
    "\n",
    "# ===== 폴더 경로 설정 =====\n",
    "base_dir = 'C:/Users/hbi/Desktop/camouflage soldier/camouflage soldier'  # 필요에 따라 경로 수정\n",
    "rgb_folder = os.path.join(base_dir, 'TrainA')\n",
    "thermal_folder = os.path.join(base_dir, 'TrainSegA')\n",
    "label_folder = os.path.join(base_dir, 'L')\n",
    "\n",
    "valid_rgb_folder = os.path.join(base_dir, 'validA_rgb')\n",
    "valid_thermal_folder = os.path.join(base_dir, 'validA_thermal')\n",
    "valid_label_folder = os.path.join(base_dir, 'validA_labels')\n",
    "\n",
    "# ===== 검증용 폴더 생성 =====\n",
    "os.makedirs(valid_rgb_folder, exist_ok=True)\n",
    "os.makedirs(valid_thermal_folder, exist_ok=True)\n",
    "os.makedirs(valid_label_folder, exist_ok=True)\n",
    "\n",
    "# ===== 이동할 샘플 수 또는 비율 설정 =====\n",
    "validation_ratio = 0.1  # 예: 10%를 validation으로\n",
    "\n",
    "# ===== 기준이 되는 파일 리스트 생성 =====\n",
    "rgb_files = sorted([f for f in os.listdir(rgb_folder) if f.endswith('.jpg')])\n",
    "num_to_move = int(len(rgb_files) * validation_ratio)\n",
    "\n",
    "# ===== 무작위로 일부 선택 =====\n",
    "selected_files = random.sample(rgb_files, num_to_move)\n",
    "\n",
    "# ===== 파일 이동 =====\n",
    "for file_name in selected_files:\n",
    "    base_name = os.path.splitext(file_name)[0]\n",
    "\n",
    "    # 파일 경로 정의\n",
    "    src_rgb = os.path.join(rgb_folder, f'{base_name}.jpg')\n",
    "    src_thermal = os.path.join(thermal_folder, f'{base_name}.jpg')\n",
    "    src_label = os.path.join(label_folder, f'{base_name}.txt')\n",
    "\n",
    "    dst_rgb = os.path.join(valid_rgb_folder, f'{base_name}.jpg')\n",
    "    dst_thermal = os.path.join(valid_thermal_folder, f'{base_name}.jpg')\n",
    "    dst_label = os.path.join(valid_label_folder, f'{base_name}.txt')\n",
    "\n",
    "    # 이동 / move로 사용할 시 움직이는 것\n",
    "    shutil.copy(src_rgb, dst_rgb)\n",
    "    shutil.copy(src_thermal, dst_thermal)\n",
    "    shutil.copy(src_label, dst_label)\n",
    "\n",
    "print(f'{num_to_move}개의 샘플을 validation 세트로 이동 완료했습니다.')\n"
   ]
  }
 ],
 "metadata": {
  "kernelspec": {
   "display_name": "Python [conda env:base] *",
   "language": "python",
   "name": "conda-base-py"
  },
  "language_info": {
   "codemirror_mode": {
    "name": "ipython",
    "version": 3
   },
   "file_extension": ".py",
   "mimetype": "text/x-python",
   "name": "python",
   "nbconvert_exporter": "python",
   "pygments_lexer": "ipython3",
   "version": "3.12.7"
  }
 },
 "nbformat": 4,
 "nbformat_minor": 5
}
