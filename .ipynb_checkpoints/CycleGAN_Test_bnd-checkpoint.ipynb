{
 "cells": [
  {
   "cell_type": "code",
   "execution_count": 6,
   "id": "518f3165-cede-4477-9957-9ccd6226ee5b",
   "metadata": {},
   "outputs": [
    {
     "name": "stdout",
     "output_type": "stream",
     "text": [
      "initialize network with normal\n"
     ]
    },
    {
     "name": "stderr",
     "output_type": "stream",
     "text": [
      "C:\\Users\\KSH\\AppData\\Local\\Temp\\ipykernel_27132\\3926391988.py:13: FutureWarning: You are using `torch.load` with `weights_only=False` (the current default value), which uses the default pickle module implicitly. It is possible to construct malicious pickle data which will execute arbitrary code during unpickling (See https://github.com/pytorch/pytorch/blob/main/SECURITY.md#untrusted-models for more details). In a future release, the default value for `weights_only` will be flipped to `True`. This limits the functions that could be executed during unpickling. Arbitrary objects will no longer be allowed to be loaded via this mode unless they are explicitly allowlisted by the user via `torch.serialization.add_safe_globals`. We recommend you start setting `weights_only=True` for any use case where you don't have full control of the loaded file. Please open an issue on GitHub for any issues related to this experimental feature.\n",
      "  netG.load_state_dict(torch.load(model_path, map_location='cpu'))\n"
     ]
    }
   ],
   "source": [
    "import torch\n",
    "from PIL import Image\n",
    "import torchvision.transforms as transforms\n",
    "from models import networks  # CycleGAN 프로젝트에 있는 models 폴더\n",
    "\n",
    "# 모델 정의 (RGB → Thermal)\n",
    "netG = networks.define_G(input_nc=3, output_nc=3, ngf=64, netG='resnet_9blocks',\n",
    "                         norm='instance', use_dropout=False, init_type='normal',\n",
    "                         init_gain=0.02, gpu_ids=[])\n",
    "\n",
    "# 저장된 모델 로드\n",
    "model_path = './checkpoints/rgb2thermal/latest_net_G_A.pth'\n",
    "netG.load_state_dict(torch.load(model_path, map_location='cpu'))\n",
    "netG.eval()\n",
    "\n",
    "# 이미지 전처리\n",
    "transform = transforms.Compose([\n",
    "    transforms.Resize((256, 256)),\n",
    "    transforms.ToTensor(),\n",
    "    transforms.Normalize((0.5, 0.5, 0.5), (0.5, 0.5, 0.5))\n",
    "])\n",
    "\n",
    "Test_num = 6\n",
    "# 입력 이미지 로드\n",
    "input_image = Image.open(f'Test_Images/Test{Test_num}.jpg').convert('RGB')\n",
    "input_tensor = transform(input_image).unsqueeze(0)  # 배치 차원 추가\n",
    "\n",
    "# 추론\n",
    "with torch.no_grad():\n",
    "    output_tensor = netG(input_tensor)\n",
    "\n",
    "# 후처리 ([-1,1] → [0,255])\n",
    "output_image = output_tensor.squeeze().detach().cpu()\n",
    "output_image = (output_image + 1) / 2.0  # [0,1]\n",
    "output_image = transforms.ToPILImage()(output_image)\n",
    "output_image.save(f'Test_Images/generated_thermal{Test_num}.jpg')\n"
   ]
  }
 ],
 "metadata": {
  "kernelspec": {
   "display_name": "Python (torch_ev)",
   "language": "python",
   "name": "torch_ev"
  },
  "language_info": {
   "codemirror_mode": {
    "name": "ipython",
    "version": 3
   },
   "file_extension": ".py",
   "mimetype": "text/x-python",
   "name": "python",
   "nbconvert_exporter": "python",
   "pygments_lexer": "ipython3",
   "version": "3.10.16"
  }
 },
 "nbformat": 4,
 "nbformat_minor": 5
}
