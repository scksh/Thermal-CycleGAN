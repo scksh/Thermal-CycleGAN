{
 "cells": [
  {
   "cell_type": "code",
   "execution_count": 1,
   "id": "933c4d56-b038-45b2-b314-c91ec9e075f1",
   "metadata": {},
   "outputs": [
    {
     "name": "stdout",
     "output_type": "stream",
     "text": [
      "✅ 총 158개 파일 변환 완료 → C:\\Users\\hbi\\Desktop\\Total_labels\\Bbox_labels\n"
     ]
    }
   ],
   "source": [
    "import os\n",
    "\n",
    "# === 경로 설정 ===\n",
    "seg_label_folder = r\"C:\\Users\\hbi\\Desktop\\Total_labels\\Total_labels\"      # segmentation txt 파일들\n",
    "bbox_label_folder = r\"C:\\Users\\hbi\\Desktop\\Total_labels\\Bbox_labels\" # bbox로 저장할 폴더\n",
    "\n",
    "os.makedirs(bbox_label_folder, exist_ok=True)\n",
    "\n",
    "# === segmentation → bounding box 변환 함수 ===\n",
    "def seg_to_bbox(seg_values):\n",
    "    class_id = int(seg_values[0])\n",
    "    coords = seg_values[1:]\n",
    "\n",
    "    if len(coords) % 2 != 0:\n",
    "        raise ValueError(\"segmentation 좌표가 짝수개여야 합니다.\")\n",
    "\n",
    "    x_coords = coords[0::2]\n",
    "    y_coords = coords[1::2]\n",
    "\n",
    "    x_min = min(x_coords)\n",
    "    x_max = max(x_coords)\n",
    "    y_min = min(y_coords)\n",
    "    y_max = max(y_coords)\n",
    "\n",
    "    x_center = (x_min + x_max) / 2\n",
    "    y_center = (y_min + y_max) / 2\n",
    "    width = x_max - x_min\n",
    "    height = y_max - y_min\n",
    "\n",
    "    return class_id, x_center, y_center, width, height\n",
    "\n",
    "# === 파일 변환 루프 ===\n",
    "converted_count = 0\n",
    "\n",
    "for filename in os.listdir(seg_label_folder):\n",
    "    if not filename.endswith(\".txt\"):\n",
    "        continue\n",
    "\n",
    "    src_path = os.path.join(seg_label_folder, filename)\n",
    "    dst_path = os.path.join(bbox_label_folder, filename)\n",
    "\n",
    "    with open(src_path, \"r\") as f:\n",
    "        lines = [line.strip() for line in f if line.strip()]\n",
    "\n",
    "    new_lines = []\n",
    "    for line in lines:\n",
    "        values = list(map(float, line.strip().split()))\n",
    "        if len(values) > 5:  # segmentation format\n",
    "            try:\n",
    "                cls_id, xc, yc, w, h = seg_to_bbox(values)\n",
    "                new_line = f\"{cls_id} {xc:.6f} {yc:.6f} {w:.6f} {h:.6f}\"\n",
    "                new_lines.append(new_line)\n",
    "            except Exception as e:\n",
    "                print(f\"[오류] {filename}: {e}\")\n",
    "        else:\n",
    "            # 이미 bbox 형식이면 그대로 사용\n",
    "            new_lines.append(line)\n",
    "\n",
    "    with open(dst_path, \"w\") as f:\n",
    "        f.write(\"\\n\".join(new_lines) + \"\\n\")\n",
    "    converted_count += 1\n",
    "\n",
    "print(f\"✅ 총 {converted_count}개 파일 변환 완료 → {bbox_label_folder}\")\n"
   ]
  }
 ],
 "metadata": {
  "kernelspec": {
   "display_name": "Python [conda env:base] *",
   "language": "python",
   "name": "conda-base-py"
  },
  "language_info": {
   "codemirror_mode": {
    "name": "ipython",
    "version": 3
   },
   "file_extension": ".py",
   "mimetype": "text/x-python",
   "name": "python",
   "nbconvert_exporter": "python",
   "pygments_lexer": "ipython3",
   "version": "3.12.7"
  }
 },
 "nbformat": 4,
 "nbformat_minor": 5
}
