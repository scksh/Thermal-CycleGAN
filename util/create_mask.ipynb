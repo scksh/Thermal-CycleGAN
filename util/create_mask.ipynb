{
 "cells": [
  {
   "cell_type": "code",
   "execution_count": 5,
   "id": "9416b61a-208a-4a2e-bafa-93c89d62825e",
   "metadata": {},
   "outputs": [
    {
     "name": "stderr",
     "output_type": "stream",
     "text": [
      "🖼️ 마스크 생성 중: 100%|█████████████████████| 417/417 [00:03<00:00, 131.20it/s]"
     ]
    },
    {
     "name": "stdout",
     "output_type": "stream",
     "text": [
      "🎉 전체 완료: 영상 → 이미지 → 마스크 생성까지 ✅\n"
     ]
    },
    {
     "name": "stderr",
     "output_type": "stream",
     "text": [
      "\n"
     ]
    }
   ],
   "source": [
    "import os\n",
    "import cv2\n",
    "import numpy as np\n",
    "from tqdm import tqdm\n",
    "\n",
    "# === 경로 설정 ===\n",
    "base_dir = \"/home/ricky/Data/Animal\"\n",
    "video_dir = os.path.join(base_dir, \"video\")\n",
    "img_dir = os.path.join(base_dir, \"images\")\n",
    "label_dir = os.path.join(base_dir, \"labels\")\n",
    "mask_dir = os.path.join(base_dir, \"masks\")\n",
    "\n",
    "os.makedirs(img_dir, exist_ok=True)\n",
    "os.makedirs(mask_dir, exist_ok=True)\n",
    "\n",
    "# === 1단계: 영상 → 프레임 분할 ===\n",
    "video_files = [f for f in os.listdir(video_dir) if f.endswith((\".MP4\", \".avi\"))]\n",
    "\n",
    "for video_file in video_files:\n",
    "    video_path = os.path.join(video_dir, video_file)\n",
    "    cap = cv2.VideoCapture(video_path)\n",
    "\n",
    "    if not cap.isOpened():\n",
    "        print(f\"[오류] 영상 열기 실패: {video_path}\")\n",
    "        continue\n",
    "\n",
    "    frame_idx = 0\n",
    "    print(f\"🎞️ 영상 분할 중: {video_file}\")\n",
    "    while True:\n",
    "        ret, frame = cap.read()\n",
    "        if not ret:\n",
    "            break\n",
    "        frame_name = f\"{os.path.splitext(video_file)[0]}_frame_{frame_idx:05d}.jpg\"\n",
    "        frame_path = os.path.join(img_dir, frame_name)\n",
    "        cv2.imwrite(frame_path, frame)\n",
    "        frame_idx += 1\n",
    "\n",
    "    cap.release()\n",
    "    print(f\"✅ 프레임 저장 완료: {frame_idx}개 → {video_file}\")\n",
    "\n",
    "# === 2단계: 마스크 생성 ===\n",
    "img_files = sorted([f for f in os.listdir(img_dir) if f.endswith((\".jpg\", \".png\"))])\n",
    "\n",
    "for img_file in tqdm(img_files, desc=\"🖼️ 마스크 생성 중\"):\n",
    "    name = os.path.splitext(img_file)[0]\n",
    "    img_path = os.path.join(img_dir, img_file)\n",
    "    label_path = os.path.join(label_dir, name + \".txt\")\n",
    "    mask_path = os.path.join(mask_dir, name + \".png\")\n",
    "\n",
    "    img = cv2.imread(img_path)\n",
    "    if img is None:                   \n",
    "        print(f\"[경고] 이미지 로드 실패: {img_path}\")\n",
    "        continue\n",
    "\n",
    "    h, w = img.shape[:2]\n",
    "    mask = np.zeros((h, w), dtype=np.uint8)  # 기본은 검정 배경\n",
    "\n",
    "    if os.path.exists(label_path):\n",
    "        with open(label_path, 'r') as f:\n",
    "            lines = f.readlines()\n",
    "        for line in lines:\n",
    "            if line.strip() == \"\":\n",
    "                continue\n",
    "            parts = line.strip().split()\n",
    "            if len(parts) != 5:\n",
    "                continue\n",
    "            _, x_center, y_center, box_w, box_h = map(float, parts)\n",
    "            x1 = int((x_center - box_w / 2) * w)\n",
    "            y1 = int((y_center - box_h / 2) * h)\n",
    "            x2 = int((x_center + box_w / 2) * w)\n",
    "            y2 = int((y_center + box_h / 2) * h)\n",
    "            cv2.rectangle(mask, (x1, y1), (x2, y2), color=255, thickness=-1)\n",
    "\n",
    "    cv2.imwrite(mask_path, mask)\n",
    "\n",
    "print(\"🎉 전체 완료: 영상 → 이미지 → 마스크 생성까지 ✅\")\n"
   ]
  }
 ],
 "metadata": {
  "kernelspec": {
   "display_name": "Python 3 (ipykernel)",
   "language": "python",
   "name": "python3"
  },
  "language_info": {
   "codemirror_mode": {
    "name": "ipython",
    "version": 3
   },
   "file_extension": ".py",
   "mimetype": "text/x-python",
   "name": "python",
   "nbconvert_exporter": "python",
   "pygments_lexer": "ipython3",
   "version": "3.12.7"
  }
 },
 "nbformat": 4,
 "nbformat_minor": 5
}
